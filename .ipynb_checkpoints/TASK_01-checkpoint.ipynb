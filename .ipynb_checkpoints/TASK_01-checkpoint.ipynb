{
 "cells": [
  {
   "cell_type": "markdown",
   "metadata": {},
   "source": [
    "# PRODIGY INFOTECH"
   ]
  },
  {
   "cell_type": "markdown",
   "metadata": {},
   "source": [
    "# TASK DONE BY :- PRASHANT KUMAR JHA"
   ]
  },
  {
   "cell_type": "code",
   "execution_count": null,
   "metadata": {},
   "outputs": [],
   "source": [
    "# importing all library\n",
    "import numpy as np\n",
    "import pandas as pd\n",
    "import seaborn as sns\n",
    "import matplotlib.pyplot as plt"
   ]
  },
  {
   "cell_type": "code",
   "execution_count": null,
   "metadata": {},
   "outputs": [],
   "source": [
    "df=pd.read_csv('API_SP.POP.TOTL_DS2_en_csv_v2_5607187.csv')\n",
    "df"
   ]
  },
  {
   "cell_type": "code",
   "execution_count": null,
   "metadata": {},
   "outputs": [],
   "source": [
    "# shape check\n",
    "df.shape"
   ]
  },
  {
   "cell_type": "code",
   "execution_count": null,
   "metadata": {},
   "outputs": [],
   "source": [
    "df.info()"
   ]
  },
  {
   "cell_type": "code",
   "execution_count": null,
   "metadata": {},
   "outputs": [],
   "source": [
    "df.describe()"
   ]
  },
  {
   "cell_type": "code",
   "execution_count": null,
   "metadata": {},
   "outputs": [],
   "source": [
    "df.isna().sum()"
   ]
  },
  {
   "cell_type": "code",
   "execution_count": null,
   "metadata": {},
   "outputs": [],
   "source": [
    "# Drop unuseful columns\n",
    "df.drop(columns=['Country Code','Indicator Name'],inplace=True)"
   ]
  },
  {
   "cell_type": "code",
   "execution_count": null,
   "metadata": {},
   "outputs": [],
   "source": [
    "df.sample()"
   ]
  },
  {
   "cell_type": "code",
   "execution_count": null,
   "metadata": {},
   "outputs": [],
   "source": [
    "# filter data for total population\n",
    "total_population_df=df[df['Indicator Code']=='SP.POP.TOTL']\n",
    "total_population_df"
   ]
  },
  {
   "cell_type": "code",
   "execution_count": null,
   "metadata": {},
   "outputs": [],
   "source": [
    "# sort data based on total population for 2022\n",
    "total_population_sort = total_population_df.sort_values(by='2022',ascending=False)\n",
    "total_population_sort"
   ]
  },
  {
   "cell_type": "markdown",
   "metadata": {},
   "source": [
    "## get top 10 countries with the highest population for 2022"
   ]
  },
  {
   "cell_type": "code",
   "execution_count": null,
   "metadata": {},
   "outputs": [],
   "source": [
    "# get top 10 countries with the highest population for 2022\n",
    "top_ten_countries = total_population_sort.head(10)\n",
    "print(\"Top Ten Counteies Of Total Population:-\")\n",
    "print(top_ten_countries)"
   ]
  },
  {
   "cell_type": "markdown",
   "metadata": {},
   "source": [
    "## Data visualization"
   ]
  },
  {
   "cell_type": "code",
   "execution_count": null,
   "metadata": {},
   "outputs": [],
   "source": [
    "# Data visualization\n",
    "def add_value_labels(ax,spacing=10):\n",
    "    for rect in ax.patches:\n",
    "        x=rect.get_x()+rect.get_width()/2\n",
    "        y=rect.get_height()-3\n",
    "        \n",
    "        va='bottom' if y>=0 else 'top'\n",
    "        label= '()'.format(y) \n",
    "        y_shift = spacing * (1 if y >= 0 else -1)\n",
    "        ax.annotate(label,(x,y),xytext=(0,y_shift),textcoords=\"offset points\",ha='center',va=va)"
   ]
  },
  {
   "cell_type": "markdown",
   "metadata": {},
   "source": [
    "## Top ten counteirs of total population in year 2022 and 2000"
   ]
  },
  {
   "cell_type": "code",
   "execution_count": null,
   "metadata": {},
   "outputs": [],
   "source": [
    "# creat a bar plot\n",
    "plt.figure(figsize=(20,13))\n",
    "plt.rcParams['axes.facecolor']==\"black\"\n",
    "\n",
    "plt.subplot(2,2,1)\n",
    "plot=sns.barplot(x='2022',y=\"Country Name\",data=top_ten_countries,palette=\"coolwarm\")\n",
    "plt.title(\"Top Ten countries Of Total Population (2022)\")\n",
    "plt.xlabel(\"Total population\")\n",
    "plt.ylabel(\"country\")\n",
    "add_value_labels(plot)\n",
    "\n",
    "plt.subplot(2,2,2)\n",
    "plot=sns.barplot(x='2000',y=\"Country Name\",data=top_ten_countries,palette=\"coolwarm\")\n",
    "plt.title(\"Top Ten countries Of Total Population in 2000\")\n",
    "plt.xlabel(\"Total population\")\n",
    "plt.ylabel(\"country\")\n",
    "add_value_labels(plot)\n",
    "\n",
    "plt.tight_layout()"
   ]
  },
  {
   "cell_type": "markdown",
   "metadata": {},
   "source": [
    "## Top ten counteirs of total population in year 1999 and 1989"
   ]
  },
  {
   "cell_type": "code",
   "execution_count": null,
   "metadata": {},
   "outputs": [],
   "source": [
    "# creat a bar plot\n",
    "plt.figure(figsize=(20,13))\n",
    "plt.rcParams['axes.facecolor']==\"black\"\n",
    "\n",
    "plt.subplot(2,2,1)\n",
    "plot=sns.barplot(x='1999',y=\"Country Name\",data=top_ten_countries,palette=\"coolwarm\")\n",
    "plt.title(\"Top Ten countries Of Total Population (1999)\")\n",
    "plt.xlabel(\"Total population\")\n",
    "plt.ylabel(\"country\")\n",
    "add_value_labels(plot)\n",
    "\n",
    "plt.subplot(2,2,2)\n",
    "plot=sns.barplot(x='1989',y=\"Country Name\",data=top_ten_countries,palette=\"coolwarm\")\n",
    "plt.title(\"Top Ten countries Of Total Population in 1989\")\n",
    "plt.xlabel(\"Total population\")\n",
    "plt.ylabel(\"country\")\n",
    "add_value_labels(plot)\n",
    "\n",
    "plt.tight_layout()"
   ]
  },
  {
   "cell_type": "markdown",
   "metadata": {},
   "source": [
    "## Top ten counteirs of total population in year 1960 and 2022"
   ]
  },
  {
   "cell_type": "code",
   "execution_count": null,
   "metadata": {},
   "outputs": [],
   "source": [
    "# creat a bar plot\n",
    "plt.figure(figsize=(20,13))\n",
    "plt.rcParams['axes.facecolor']==\"black\"\n",
    "\n",
    "plt.subplot(2,2,1)\n",
    "plot=sns.barplot(x='1960',y=\"Country Name\",data=top_ten_countries,palette=\"coolwarm\")\n",
    "plt.title(\"Top Ten countries Of Total Population (1999)\")\n",
    "plt.xlabel(\"Total population\")\n",
    "plt.ylabel(\"country\")\n",
    "add_value_labels(plot)\n",
    "\n",
    "plt.subplot(2,2,2)\n",
    "plot=sns.barplot(x='2022',y=\"Country Name\",data=top_ten_countries,palette=\"coolwarm\")\n",
    "plt.title(\"Top Ten countries Of Total Population in 1989\")\n",
    "plt.xlabel(\"Total population\")\n",
    "plt.ylabel(\"country\")\n",
    "add_value_labels(plot)\n",
    "\n",
    "plt.tight_layout()"
   ]
  },
  {
   "cell_type": "markdown",
   "metadata": {},
   "source": [
    "# get bottom 10 countries with the highest population"
   ]
  },
  {
   "cell_type": "code",
   "execution_count": null,
   "metadata": {},
   "outputs": [],
   "source": [
    "# sort data based on total population for 2022\n",
    "total_population_sort_bt = total_population_df.sort_values(by='2022',ascending=True)\n",
    "total_population_sort_bt"
   ]
  },
  {
   "cell_type": "code",
   "execution_count": null,
   "metadata": {},
   "outputs": [],
   "source": [
    "top_ten_bt_countries = total_population_sort_bt.head(10)\n",
    "print(\"Top Ten Bottom Counteies Of Total Population:-\")\n",
    "print(top_ten_bt_countries)"
   ]
  },
  {
   "cell_type": "markdown",
   "metadata": {},
   "source": [
    "## Bottom ten counteirs of total population in year 2022 and 2000"
   ]
  },
  {
   "cell_type": "code",
   "execution_count": null,
   "metadata": {},
   "outputs": [],
   "source": [
    "# creat a bar plot\n",
    "plt.figure(figsize=(20,13))\n",
    "plt.rcParams['axes.facecolor']==\"black\"\n",
    "\n",
    "plt.subplot(2,2,1)\n",
    "plot=sns.barplot(x='2022',y=\"Country Name\",data=top_ten_bt_countries,palette=\"coolwarm\")\n",
    "plt.title(\"Top Ten Bottom countries Of Total Population (2022)\")\n",
    "plt.xlabel(\"Total population\")\n",
    "plt.ylabel(\"country\")\n",
    "add_value_labels(plot)\n",
    "\n",
    "plt.subplot(2,2,2)\n",
    "plot=sns.barplot(x='2000',y=\"Country Name\",data=top_ten_bt_countries,palette=\"coolwarm\")\n",
    "plt.title(\"Top Ten Bottom countries Of Total Population in 2000\")\n",
    "plt.xlabel(\"Total population\")\n",
    "plt.ylabel(\"country\")\n",
    "add_value_labels(plot)\n",
    "\n",
    "plt.tight_layout()"
   ]
  },
  {
   "cell_type": "markdown",
   "metadata": {},
   "source": [
    "## Bottom ten counteirs of total population in year 1999 and 1989"
   ]
  },
  {
   "cell_type": "code",
   "execution_count": null,
   "metadata": {},
   "outputs": [],
   "source": [
    "# creat a bar plot\n",
    "plt.figure(figsize=(20,13))\n",
    "plt.rcParams['axes.facecolor']==\"black\"\n",
    "\n",
    "plt.subplot(2,2,1)\n",
    "plot=sns.barplot(x='1999',y=\"Country Name\",data=top_ten_bt_countries,palette=\"coolwarm\")\n",
    "plt.title(\"Top Ten Bottom countries Of Total Population (1999)\")\n",
    "plt.xlabel(\"Total population\")\n",
    "plt.ylabel(\"country\")\n",
    "add_value_labels(plot)\n",
    "\n",
    "plt.subplot(2,2,2)\n",
    "plot=sns.barplot(x='1989',y=\"Country Name\",data=top_ten_bt_countries,palette=\"coolwarm\")\n",
    "plt.title(\"Top Ten Bottom countries Of Total Population in 1989\")\n",
    "plt.xlabel(\"Total population\")\n",
    "plt.ylabel(\"country\")\n",
    "add_value_labels(plot)\n",
    "\n",
    "plt.tight_layout()"
   ]
  },
  {
   "cell_type": "markdown",
   "metadata": {},
   "source": [
    "## Bottom ten counteirs of total population in year 1960 and 2022"
   ]
  },
  {
   "cell_type": "code",
   "execution_count": null,
   "metadata": {},
   "outputs": [],
   "source": [
    "# creat a bar plot\n",
    "plt.figure(figsize=(20,13))\n",
    "plt.rcParams['axes.facecolor']==\"black\"\n",
    "\n",
    "plt.subplot(2,2,1)\n",
    "plot=sns.barplot(x='1960',y=\"Country Name\",data=top_ten_bt_countries,palette=\"coolwarm\")\n",
    "plt.title(\"Top Ten Bottom countries Of Total Population (1960)\")\n",
    "plt.xlabel(\"Total population\")\n",
    "plt.ylabel(\"country\")\n",
    "add_value_labels(plot)\n",
    "\n",
    "plt.subplot(2,2,2)\n",
    "plot=sns.barplot(x='2022',y=\"Country Name\",data=top_ten_bt_countries,palette=\"coolwarm\")\n",
    "plt.title(\"Top Ten Bottom countries Of Total Population in 2022\")\n",
    "plt.xlabel(\"Total population\")\n",
    "plt.ylabel(\"country\")\n",
    "add_value_labels(plot)\n",
    "\n",
    "plt.tight_layout()"
   ]
  },
  {
   "cell_type": "code",
   "execution_count": null,
   "metadata": {},
   "outputs": [],
   "source": [
    "df.sample(10)"
   ]
  },
  {
   "cell_type": "code",
   "execution_count": null,
   "metadata": {},
   "outputs": [],
   "source": [
    "# filter data for total male population\n",
    "total_population_male=df[df['Indicator Code']=='SP.POP.TOTL.MA.IN']\n",
    "total_population_male"
   ]
  },
  {
   "cell_type": "code",
   "execution_count": null,
   "metadata": {},
   "outputs": [],
   "source": [
    "# sort data based on total population for 2022\n",
    "total_population_sort_ma = total_population_male.sort_values(by='2022',ascending=False)\n",
    "total_population_sort_ma"
   ]
  },
  {
   "cell_type": "code",
   "execution_count": null,
   "metadata": {},
   "outputs": [],
   "source": [
    "# get top 10 countries with the highest population for 2022\n",
    "top_ten_male_countries = total_population_sort_ma.head(10)\n",
    "print(\"Top Ten male Counteies Of Total Population:-\")\n",
    "print(top_ten_male_countries)"
   ]
  }
 ],
 "metadata": {
  "language_info": {
   "name": "python"
  },
  "orig_nbformat": 4
 },
 "nbformat": 4,
 "nbformat_minor": 2
}
